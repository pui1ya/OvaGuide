{
 "cells": [
  {
   "cell_type": "code",
   "execution_count": 2,
   "id": "aa607429",
   "metadata": {},
   "outputs": [],
   "source": [
    "import pandas as pd\n",
    "import numpy as np\n",
    "import matplotlib.pyplot as plt"
   ]
  },
  {
   "cell_type": "code",
   "execution_count": 3,
   "id": "736bb3b8",
   "metadata": {},
   "outputs": [
    {
     "data": {
      "text/html": [
       "<div>\n",
       "<style scoped>\n",
       "    .dataframe tbody tr th:only-of-type {\n",
       "        vertical-align: middle;\n",
       "    }\n",
       "\n",
       "    .dataframe tbody tr th {\n",
       "        vertical-align: top;\n",
       "    }\n",
       "\n",
       "    .dataframe thead th {\n",
       "        text-align: right;\n",
       "    }\n",
       "</style>\n",
       "<table border=\"1\" class=\"dataframe\">\n",
       "  <thead>\n",
       "    <tr style=\"text-align: right;\">\n",
       "      <th></th>\n",
       "      <th>Age</th>\n",
       "      <th>Weight_kg</th>\n",
       "      <th>Height_ft</th>\n",
       "      <th>Marital_Status</th>\n",
       "      <th>PCOS</th>\n",
       "      <th>Family_History_PCOS</th>\n",
       "      <th>Menstrual_Irregularity</th>\n",
       "      <th>Hormonal_Imbalance</th>\n",
       "      <th>Hyperandrogenism</th>\n",
       "      <th>Hirsutism</th>\n",
       "      <th>...</th>\n",
       "      <th>Diet_Multivitamin</th>\n",
       "      <th>Vegetarian</th>\n",
       "      <th>Exercise_Frequency</th>\n",
       "      <th>Exercise_Type</th>\n",
       "      <th>Exercise_Duration</th>\n",
       "      <th>Sleep_Hours</th>\n",
       "      <th>Stress_Level</th>\n",
       "      <th>Smoking</th>\n",
       "      <th>Exercise_Benefit</th>\n",
       "      <th>PCOS_Medication</th>\n",
       "    </tr>\n",
       "  </thead>\n",
       "  <tbody>\n",
       "    <tr>\n",
       "      <th>0</th>\n",
       "      <td>20-25</td>\n",
       "      <td>66.0</td>\n",
       "      <td>157.48</td>\n",
       "      <td>Unmarried</td>\n",
       "      <td>No</td>\n",
       "      <td>No</td>\n",
       "      <td>Yes</td>\n",
       "      <td>No</td>\n",
       "      <td>No</td>\n",
       "      <td>No</td>\n",
       "      <td>...</td>\n",
       "      <td>0</td>\n",
       "      <td>No</td>\n",
       "      <td>Rarely</td>\n",
       "      <td>Cardio (e.g., running, cycling, swimming)</td>\n",
       "      <td>30 minutes</td>\n",
       "      <td>Less than 6 hours</td>\n",
       "      <td>No</td>\n",
       "      <td>No</td>\n",
       "      <td>Somewhat</td>\n",
       "      <td>No.</td>\n",
       "    </tr>\n",
       "    <tr>\n",
       "      <th>1</th>\n",
       "      <td>Less than 20</td>\n",
       "      <td>56.0</td>\n",
       "      <td>165.10</td>\n",
       "      <td>Unmarried</td>\n",
       "      <td>No</td>\n",
       "      <td>No</td>\n",
       "      <td>No</td>\n",
       "      <td>No</td>\n",
       "      <td>No</td>\n",
       "      <td>No</td>\n",
       "      <td>...</td>\n",
       "      <td>0</td>\n",
       "      <td>No</td>\n",
       "      <td>Daily</td>\n",
       "      <td>No Exercise</td>\n",
       "      <td>Less than 30 minutes</td>\n",
       "      <td>6-8 hours</td>\n",
       "      <td>No</td>\n",
       "      <td>No</td>\n",
       "      <td>Somewhat</td>\n",
       "      <td>No.</td>\n",
       "    </tr>\n",
       "    <tr>\n",
       "      <th>2</th>\n",
       "      <td>Less than 20</td>\n",
       "      <td>89.0</td>\n",
       "      <td>167.64</td>\n",
       "      <td>Unmarried</td>\n",
       "      <td>No</td>\n",
       "      <td>Yes</td>\n",
       "      <td>No</td>\n",
       "      <td>No</td>\n",
       "      <td>No</td>\n",
       "      <td>Yes</td>\n",
       "      <td>...</td>\n",
       "      <td>0</td>\n",
       "      <td>No</td>\n",
       "      <td>Rarely</td>\n",
       "      <td>Cardio (e.g., running, cycling, swimming)</td>\n",
       "      <td>Less than 30 minutes</td>\n",
       "      <td>6-8 hours</td>\n",
       "      <td>Yes</td>\n",
       "      <td>No</td>\n",
       "      <td>Somewhat</td>\n",
       "      <td>No.</td>\n",
       "    </tr>\n",
       "    <tr>\n",
       "      <th>3</th>\n",
       "      <td>20-25</td>\n",
       "      <td>55.0</td>\n",
       "      <td>160.02</td>\n",
       "      <td>Unmarried</td>\n",
       "      <td>No</td>\n",
       "      <td>Yes</td>\n",
       "      <td>No</td>\n",
       "      <td>Yes</td>\n",
       "      <td>No</td>\n",
       "      <td>Yes</td>\n",
       "      <td>...</td>\n",
       "      <td>1</td>\n",
       "      <td>No</td>\n",
       "      <td>Never</td>\n",
       "      <td>No Exercise</td>\n",
       "      <td>Not Applicable</td>\n",
       "      <td>6-8 hours</td>\n",
       "      <td>Yes</td>\n",
       "      <td>No</td>\n",
       "      <td>Somewhat</td>\n",
       "      <td>No.</td>\n",
       "    </tr>\n",
       "    <tr>\n",
       "      <th>4</th>\n",
       "      <td>Less than 20</td>\n",
       "      <td>55.0</td>\n",
       "      <td>160.02</td>\n",
       "      <td>Unmarried</td>\n",
       "      <td>No</td>\n",
       "      <td>No</td>\n",
       "      <td>No</td>\n",
       "      <td>No</td>\n",
       "      <td>No</td>\n",
       "      <td>No</td>\n",
       "      <td>...</td>\n",
       "      <td>0</td>\n",
       "      <td>No</td>\n",
       "      <td>Daily</td>\n",
       "      <td>Cardio (e.g., running, cycling, swimming)</td>\n",
       "      <td>30 minutes to 1 hour</td>\n",
       "      <td>6-8 hours</td>\n",
       "      <td>Yes</td>\n",
       "      <td>No</td>\n",
       "      <td>Not at All</td>\n",
       "      <td>No.</td>\n",
       "    </tr>\n",
       "  </tbody>\n",
       "</table>\n",
       "<p>5 rows × 36 columns</p>\n",
       "</div>"
      ],
      "text/plain": [
       "            Age  Weight_kg  Height_ft Marital_Status PCOS Family_History_PCOS  \\\n",
       "0         20-25       66.0     157.48      Unmarried   No                  No   \n",
       "1  Less than 20       56.0     165.10      Unmarried   No                  No   \n",
       "2  Less than 20       89.0     167.64      Unmarried   No                 Yes   \n",
       "3         20-25       55.0     160.02      Unmarried   No                 Yes   \n",
       "4  Less than 20       55.0     160.02      Unmarried   No                  No   \n",
       "\n",
       "  Menstrual_Irregularity Hormonal_Imbalance Hyperandrogenism Hirsutism  ...  \\\n",
       "0                    Yes                 No               No        No  ...   \n",
       "1                     No                 No               No        No  ...   \n",
       "2                     No                 No               No       Yes  ...   \n",
       "3                     No                Yes               No       Yes  ...   \n",
       "4                     No                 No               No        No  ...   \n",
       "\n",
       "  Diet_Multivitamin Vegetarian Exercise_Frequency  \\\n",
       "0                 0         No             Rarely   \n",
       "1                 0         No              Daily   \n",
       "2                 0         No             Rarely   \n",
       "3                 1         No              Never   \n",
       "4                 0         No              Daily   \n",
       "\n",
       "                               Exercise_Type     Exercise_Duration  \\\n",
       "0  Cardio (e.g., running, cycling, swimming)            30 minutes   \n",
       "1                                No Exercise  Less than 30 minutes   \n",
       "2  Cardio (e.g., running, cycling, swimming)  Less than 30 minutes   \n",
       "3                                No Exercise        Not Applicable   \n",
       "4  Cardio (e.g., running, cycling, swimming)  30 minutes to 1 hour   \n",
       "\n",
       "         Sleep_Hours  Stress_Level  Smoking  Exercise_Benefit  PCOS_Medication  \n",
       "0  Less than 6 hours            No       No          Somewhat              No.  \n",
       "1          6-8 hours            No       No          Somewhat              No.  \n",
       "2          6-8 hours           Yes       No          Somewhat              No.  \n",
       "3          6-8 hours           Yes       No          Somewhat              No.  \n",
       "4          6-8 hours           Yes       No        Not at All              No.  \n",
       "\n",
       "[5 rows x 36 columns]"
      ]
     },
     "execution_count": 3,
     "metadata": {},
     "output_type": "execute_result"
    }
   ],
   "source": [
    "df = pd.read_csv('/Users/punyashrees/Documents/projects/OvaGuide/data/Cleaned-Data.csv')\n",
    "df.head(5)"
   ]
  },
  {
   "cell_type": "code",
   "execution_count": 4,
   "id": "643c5865",
   "metadata": {},
   "outputs": [],
   "source": [
    "from sklearn.pipeline import Pipeline\n",
    "from sklearn.compose import ColumnTransformer\n",
    "from sklearn.preprocessing import StandardScaler, OneHotEncoder\n",
    "from sklearn.impute import SimpleImputer\n",
    "import joblib"
   ]
  },
  {
   "cell_type": "code",
   "execution_count": 5,
   "id": "8bd689f8",
   "metadata": {},
   "outputs": [
    {
     "data": {
      "text/plain": [
       "array(['20-25', 'Less than 20', '45 and above', '30-35', '35-44', '25-30'],\n",
       "      dtype=object)"
      ]
     },
     "execution_count": 5,
     "metadata": {},
     "output_type": "execute_result"
    }
   ],
   "source": [
    "df[\"Age\"].unique()"
   ]
  },
  {
   "cell_type": "code",
   "execution_count": 6,
   "id": "c9602f0a",
   "metadata": {},
   "outputs": [],
   "source": [
    "age_map = {'20-25': '20-25', 'Less than 20': '12-19', '45 and above': '45-100', '30-35': '31-35', '35-44': '36-44', '25-30': '26-30'}\n",
    "df['Age'] = df['Age'].map(age_map)"
   ]
  },
  {
   "cell_type": "code",
   "execution_count": 7,
   "id": "8036a860",
   "metadata": {},
   "outputs": [
    {
     "data": {
      "text/plain": [
       "array(['Less than 6 hours', '6-8 hours', '9-12 hours',\n",
       "       'More than 12 hours'], dtype=object)"
      ]
     },
     "execution_count": 7,
     "metadata": {},
     "output_type": "execute_result"
    }
   ],
   "source": [
    "data = df.copy()\n",
    "data[\"Sleep_Hours\"].unique()"
   ]
  },
  {
   "cell_type": "code",
   "execution_count": 8,
   "id": "45f8d863",
   "metadata": {},
   "outputs": [
    {
     "data": {
      "text/plain": [
       "Sleep_Hours\n",
       "6-8 hours              [7.0]\n",
       "9-12 hours            [11.5]\n",
       "Less than 6 hours      [5.5]\n",
       "More than 12 hours    [12.0]\n",
       "Name: Sleep_Hours_num, dtype: object"
      ]
     },
     "execution_count": 8,
     "metadata": {},
     "output_type": "execute_result"
    }
   ],
   "source": [
    "#mapping sleep hours to adjacent numeric labels\n",
    "sleep_map = {\"Less than 6 hours\":5.5, \"6-8 hours\":7.0, \"9-12 hours\":11.5, \"More than 12 hours\": 12}\n",
    "if \"Sleep_Hours\" in data.columns:\n",
    "    data[\"Sleep_Hours_num\"] = data[\"Sleep_Hours\"].map(sleep_map)\n",
    "\n",
    "# Show mapping between Sleep_Hours and Sleep_Hours_num\n",
    "data.groupby(\"Sleep_Hours\")[\"Sleep_Hours_num\"].unique()"
   ]
  },
  {
   "cell_type": "code",
   "execution_count": 9,
   "id": "21c361aa",
   "metadata": {},
   "outputs": [
    {
     "data": {
      "text/plain": [
       "array(['30 minutes', 'Less than 30 minutes', 'Not Applicable',\n",
       "       '30 minutes to 1 hour', 'More than 30 minutes'], dtype=object)"
      ]
     },
     "execution_count": 9,
     "metadata": {},
     "output_type": "execute_result"
    }
   ],
   "source": [
    "data[\"Exercise_Duration\"].unique()"
   ]
  },
  {
   "cell_type": "code",
   "execution_count": 10,
   "id": "79a22520",
   "metadata": {},
   "outputs": [
    {
     "data": {
      "text/plain": [
       "Exercise_Duration\n",
       "30 minutes              [30]\n",
       "30 minutes to 1 hour    [55]\n",
       "Less than 30 minutes    [15]\n",
       "More than 30 minutes    [45]\n",
       "Not Applicable           [0]\n",
       "Name: Exercise_Minutes, dtype: object"
      ]
     },
     "execution_count": 10,
     "metadata": {},
     "output_type": "execute_result"
    }
   ],
   "source": [
    "#mapping exercise duration to minutes\n",
    "exercise_map = {\n",
    "    \"Less than 30 minutes\": 15, \"30 minutes\": 30, \"30 minutes to 1 hour\": 55,\n",
    "    \"Not Applicable\": 0, \"More than 30 minutes\": 45\n",
    "}\n",
    "if \"Exercise_Duration\" in data.columns:\n",
    "    data[\"Exercise_Minutes\"] = data[\"Exercise_Duration\"].map(exercise_map)\n",
    "\n",
    "data.groupby(\"Exercise_Duration\")[\"Exercise_Minutes\"].unique()\n"
   ]
  },
  {
   "cell_type": "code",
   "execution_count": 11,
   "id": "122c2a47",
   "metadata": {},
   "outputs": [],
   "source": [
    "#ensuring diet columns are numeric\n",
    "diet_cols = [c for c in data.columns if c.startswith(\"Diet_\")]\n",
    "for c in diet_cols:\n",
    "    data[c] = pd.to_numeric(data[c], errors=\"coerce\")"
   ]
  },
  {
   "cell_type": "code",
   "execution_count": 12,
   "id": "fad01876",
   "metadata": {},
   "outputs": [],
   "source": [
    "#detecting yes/no and mapping them to binary\n",
    "def is_yes_no(series):\n",
    "    vals = set([str(x).strip().lower().rstrip('.') for x in series.dropna().unique()])\n",
    "    return vals.issubset({\"yes\",\"no\",\"y\",\"n\",\"true\",\"false\"})\n",
    "\n",
    "binary_cols = []\n",
    "for col in data.select_dtypes(include=[\"object\"]).columns:\n",
    "    if is_yes_no(data[col]):\n",
    "        binary_cols.append(col)\n",
    "for c in binary_cols:\n",
    "    data[c] = data[c].astype(str).str.strip().str.lower().str.rstrip('.').map({\"yes\":1,\"no\":0,\"y\":1,\"n\":0,\"true\":1,\"false\":0})"
   ]
  },
  {
   "cell_type": "code",
   "execution_count": 13,
   "id": "d58e213f",
   "metadata": {},
   "outputs": [],
   "source": [
    "data.drop(columns=[\"Sleep_Hours\", \"Exercise_Duration\"], inplace=True, axis=1)"
   ]
  },
  {
   "cell_type": "code",
   "execution_count": 14,
   "id": "a10c3649",
   "metadata": {},
   "outputs": [],
   "source": [
    "#setting feature columns\n",
    "target_candidates = [\"PCOS\"]\n",
    "target_col = next((t for t in target_candidates if t in data.columns), None)\n",
    "if target_col:\n",
    "    X = data.drop(columns=[target_col]).copy()\n",
    "else:\n",
    "    X = data.copy()"
   ]
  },
  {
   "cell_type": "code",
   "execution_count": 15,
   "id": "f75f9f13",
   "metadata": {},
   "outputs": [
    {
     "data": {
      "text/html": [
       "<div>\n",
       "<style scoped>\n",
       "    .dataframe tbody tr th:only-of-type {\n",
       "        vertical-align: middle;\n",
       "    }\n",
       "\n",
       "    .dataframe tbody tr th {\n",
       "        vertical-align: top;\n",
       "    }\n",
       "\n",
       "    .dataframe thead th {\n",
       "        text-align: right;\n",
       "    }\n",
       "</style>\n",
       "<table border=\"1\" class=\"dataframe\">\n",
       "  <thead>\n",
       "    <tr style=\"text-align: right;\">\n",
       "      <th></th>\n",
       "      <th>Age</th>\n",
       "      <th>Weight_kg</th>\n",
       "      <th>Height_ft</th>\n",
       "      <th>Marital_Status</th>\n",
       "      <th>Family_History_PCOS</th>\n",
       "      <th>Menstrual_Irregularity</th>\n",
       "      <th>Hormonal_Imbalance</th>\n",
       "      <th>Hyperandrogenism</th>\n",
       "      <th>Hirsutism</th>\n",
       "      <th>Mental_Health</th>\n",
       "      <th>...</th>\n",
       "      <th>Diet_Multivitamin</th>\n",
       "      <th>Vegetarian</th>\n",
       "      <th>Exercise_Frequency</th>\n",
       "      <th>Exercise_Type</th>\n",
       "      <th>Stress_Level</th>\n",
       "      <th>Smoking</th>\n",
       "      <th>Exercise_Benefit</th>\n",
       "      <th>PCOS_Medication</th>\n",
       "      <th>Sleep_Hours_num</th>\n",
       "      <th>Exercise_Minutes</th>\n",
       "    </tr>\n",
       "  </thead>\n",
       "  <tbody>\n",
       "    <tr>\n",
       "      <th>0</th>\n",
       "      <td>20-25</td>\n",
       "      <td>66.0</td>\n",
       "      <td>157.48</td>\n",
       "      <td>Unmarried</td>\n",
       "      <td>No</td>\n",
       "      <td>1</td>\n",
       "      <td>No</td>\n",
       "      <td>0</td>\n",
       "      <td>No</td>\n",
       "      <td>1</td>\n",
       "      <td>...</td>\n",
       "      <td>0</td>\n",
       "      <td>0</td>\n",
       "      <td>Rarely</td>\n",
       "      <td>Cardio (e.g., running, cycling, swimming)</td>\n",
       "      <td>0</td>\n",
       "      <td>0</td>\n",
       "      <td>Somewhat</td>\n",
       "      <td>No.</td>\n",
       "      <td>5.5</td>\n",
       "      <td>30</td>\n",
       "    </tr>\n",
       "    <tr>\n",
       "      <th>1</th>\n",
       "      <td>12-19</td>\n",
       "      <td>56.0</td>\n",
       "      <td>165.10</td>\n",
       "      <td>Unmarried</td>\n",
       "      <td>No</td>\n",
       "      <td>0</td>\n",
       "      <td>No</td>\n",
       "      <td>0</td>\n",
       "      <td>No</td>\n",
       "      <td>0</td>\n",
       "      <td>...</td>\n",
       "      <td>0</td>\n",
       "      <td>0</td>\n",
       "      <td>Daily</td>\n",
       "      <td>No Exercise</td>\n",
       "      <td>0</td>\n",
       "      <td>0</td>\n",
       "      <td>Somewhat</td>\n",
       "      <td>No.</td>\n",
       "      <td>7.0</td>\n",
       "      <td>15</td>\n",
       "    </tr>\n",
       "  </tbody>\n",
       "</table>\n",
       "<p>2 rows × 35 columns</p>\n",
       "</div>"
      ],
      "text/plain": [
       "     Age  Weight_kg  Height_ft Marital_Status Family_History_PCOS  \\\n",
       "0  20-25       66.0     157.48      Unmarried                  No   \n",
       "1  12-19       56.0     165.10      Unmarried                  No   \n",
       "\n",
       "   Menstrual_Irregularity Hormonal_Imbalance  Hyperandrogenism Hirsutism  \\\n",
       "0                       1                 No                 0        No   \n",
       "1                       0                 No                 0        No   \n",
       "\n",
       "   Mental_Health  ... Diet_Multivitamin Vegetarian Exercise_Frequency  \\\n",
       "0              1  ...                 0          0             Rarely   \n",
       "1              0  ...                 0          0              Daily   \n",
       "\n",
       "                               Exercise_Type Stress_Level  Smoking  \\\n",
       "0  Cardio (e.g., running, cycling, swimming)            0        0   \n",
       "1                                No Exercise            0        0   \n",
       "\n",
       "   Exercise_Benefit  PCOS_Medication  Sleep_Hours_num  Exercise_Minutes  \n",
       "0          Somewhat              No.              5.5                30  \n",
       "1          Somewhat              No.              7.0                15  \n",
       "\n",
       "[2 rows x 35 columns]"
      ]
     },
     "execution_count": 15,
     "metadata": {},
     "output_type": "execute_result"
    }
   ],
   "source": [
    "#input / feature columns\n",
    "X.head(2)"
   ]
  },
  {
   "cell_type": "code",
   "execution_count": 16,
   "id": "91a00ba2",
   "metadata": {},
   "outputs": [
    {
     "name": "stdout",
     "output_type": "stream",
     "text": [
      "['No' 'Yes' 'No, Yes, not diagnosed by a doctor']\n",
      "[0 1]\n"
     ]
    },
    {
     "data": {
      "text/plain": [
       "dtype('int64')"
      ]
     },
     "execution_count": 16,
     "metadata": {},
     "output_type": "execute_result"
    }
   ],
   "source": [
    "#encoding target columns - PCOS\n",
    "print(data[\"PCOS\"].unique())\n",
    "PCOS_map = {\"No\": 0, \"Yes\": 1, \"No, Yes, not diagnosed by a doctor\": 1}\n",
    "data[\"PCOS\"] = data[\"PCOS\"].map(PCOS_map)\n",
    "print(data[\"PCOS\"].unique())\n",
    "data[\"PCOS\"].dtype"
   ]
  },
  {
   "cell_type": "code",
   "execution_count": 17,
   "id": "64b6d9fd",
   "metadata": {},
   "outputs": [
    {
     "name": "stdout",
     "output_type": "stream",
     "text": [
      "['No.'\n",
      " 'Yes.. but rn i stopped medication and start organic seeds that helps me a lot'\n",
      " 'Glucophage '\n",
      " 'I used to take medicine for almost two years, but it had no significant effects. One thing I added to my daily routine is walking for half an hour or more, which has significantly improved my periods.Also recommended my doctors.'\n",
      " 'Yes, hormonal therapy (e.g., birth control pills)'\n",
      " \"I took as endocrinologist prescribed me but she said that I don't have PCOS \"\n",
      " 'Multivitamins, Inositol' 'Herbal' 'Option 2']\n",
      "[0. 1.]\n"
     ]
    }
   ],
   "source": [
    "#encoding target columns - PCOS_Medication\n",
    "print(data[\"PCOS_Medication\"].unique())\n",
    "medication_map = {'No.': 0, 'Yes.. but rn i stopped medication and start organic seeds that helps me a lot': 1, 'Glucophage ': 1, \"I used to take medicine for almost two years, but it had no significant effects. One thing I added to my daily routine is walking for half an hour or more, which has significantly improved my periods.Also recommended my doctors.': 1, 'Yes, hormonal therapy (e.g., birth control pills)': 1, 'I took as endocrinologist prescribed me but she said that I don't have PCOS \": 0, 'Multivitamins, Inositol': 1, 'Herbal': 1, 'Option 2': 0}\n",
    "data['PCOS_Medication'] = data['PCOS_Medication'].map(medication_map)\n",
    "#droping rows where PCOS_Medication is NaN\n",
    "data = data.dropna(subset=['PCOS_Medication']).reset_index(drop=True)\n",
    "print(data[\"PCOS_Medication\"].unique())\n"
   ]
  },
  {
   "cell_type": "code",
   "execution_count": 18,
   "id": "8c039701",
   "metadata": {},
   "outputs": [
    {
     "data": {
      "text/plain": [
       "6055"
      ]
     },
     "execution_count": 18,
     "metadata": {},
     "output_type": "execute_result"
    }
   ],
   "source": [
    "X.size"
   ]
  },
  {
   "cell_type": "code",
   "execution_count": 19,
   "id": "7132cfdd",
   "metadata": {},
   "outputs": [
    {
     "data": {
      "text/plain": [
       "5950"
      ]
     },
     "execution_count": 19,
     "metadata": {},
     "output_type": "execute_result"
    }
   ],
   "source": [
    "#dropping target column from entering the pipeline\n",
    "X = data.drop(columns='PCOS')\n",
    "X.size"
   ]
  },
  {
   "cell_type": "code",
   "execution_count": 25,
   "id": "5f3c0b51",
   "metadata": {},
   "outputs": [
    {
     "data": {
      "text/plain": [
       "['Age',\n",
       " 'Marital_Status',\n",
       " 'Family_History_PCOS',\n",
       " 'Hormonal_Imbalance',\n",
       " 'Hirsutism',\n",
       " 'Conception_Difficulty',\n",
       " 'Insulin_Resistance',\n",
       " 'Diabetes',\n",
       " 'Childhood_Trauma',\n",
       " 'Cardiovascular_Disease',\n",
       " 'Exercise_Frequency',\n",
       " 'Exercise_Type',\n",
       " 'Exercise_Benefit']"
      ]
     },
     "execution_count": 25,
     "metadata": {},
     "output_type": "execute_result"
    }
   ],
   "source": [
    "#getting numerical and categorical columns for pipeline\n",
    "numeric_cols = X.select_dtypes(include=[np.number]).columns.tolist()\n",
    "categorical_cols = X.select_dtypes(include=[\"object\"]).columns.tolist()\n",
    "categorical_cols"
   ]
  },
  {
   "cell_type": "code",
   "execution_count": 21,
   "id": "195186be",
   "metadata": {},
   "outputs": [],
   "source": [
    "#building pipelines for numeric and categorical columns\n",
    "numeric_transformer = Pipeline([(\"scaler\", StandardScaler()), (\"num_imputer\", SimpleImputer(strategy=\"median\"))])\n",
    "categorical_transformer = Pipeline([(\"onehot\", OneHotEncoder(handle_unknown=\"ignore\")), (\"cat_imputer\", SimpleImputer(strategy=\"median\"))])"
   ]
  },
  {
   "cell_type": "code",
   "execution_count": 22,
   "id": "eb965e24",
   "metadata": {},
   "outputs": [
    {
     "name": "stdout",
     "output_type": "stream",
     "text": [
      "Transformed shape: (170, 78)\n"
     ]
    }
   ],
   "source": [
    "#applying different transformers to different type of columns\n",
    "preprocessor = ColumnTransformer([\n",
    "    (\"num\", numeric_transformer, numeric_cols),\n",
    "    (\"cat\", categorical_transformer, categorical_cols)\n",
    "], remainder=\"drop\")\n",
    "\n",
    "#pipeline for preprocessing\n",
    "pipeline = Pipeline([(\"preprocessor\", preprocessor)])\n",
    "\n",
    "#fitting the data into the pipeline and saving it to X_trans\n",
    "pipeline.fit(X)\n",
    "X_trans = pipeline.transform(X)\n",
    "print(\"Transformed shape:\", X_trans.shape)"
   ]
  },
  {
   "cell_type": "code",
   "execution_count": 23,
   "id": "b087ee19",
   "metadata": {},
   "outputs": [
    {
     "name": "stdout",
     "output_type": "stream",
     "text": [
      "Saved pipeline and feature lists to pcos_preprocessing_pipeline.joblib\n"
     ]
    }
   ],
   "source": [
    "joblib.dump(pipeline, \"pcos_preprocessing_pipeline.joblib\")\n",
    "joblib.dump({\"numeric_cols\": numeric_cols, \"categorical_cols\": categorical_cols}, \"pcos_feature_columns.joblib\")\n",
    "print(\"Saved pipeline and feature lists to pcos_preprocessing_pipeline.joblib\")"
   ]
  },
  {
   "cell_type": "code",
   "execution_count": 24,
   "id": "9f074a8a",
   "metadata": {},
   "outputs": [
    {
     "data": {
      "text/plain": [
       "['pcos_preprocessed.pkl']"
      ]
     },
     "execution_count": 24,
     "metadata": {},
     "output_type": "execute_result"
    }
   ],
   "source": [
    "import joblib\n",
    "joblib.dump(data, \"pcos_preprocessed.pkl\")      "
   ]
  }
 ],
 "metadata": {
  "kernelspec": {
   "display_name": "Python 3",
   "language": "python",
   "name": "python3"
  },
  "language_info": {
   "codemirror_mode": {
    "name": "ipython",
    "version": 3
   },
   "file_extension": ".py",
   "mimetype": "text/x-python",
   "name": "python",
   "nbconvert_exporter": "python",
   "pygments_lexer": "ipython3",
   "version": "3.12.6"
  }
 },
 "nbformat": 4,
 "nbformat_minor": 5
}
