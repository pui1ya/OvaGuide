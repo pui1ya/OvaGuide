{
 "cells": [
  {
   "cell_type": "code",
   "execution_count": 7,
   "id": "aa607429",
   "metadata": {},
   "outputs": [],
   "source": [
    "import pandas as pd\n",
    "import numpy as np\n",
    "import matplotlib.pyplot as plt"
   ]
  },
  {
   "cell_type": "code",
   "execution_count": 8,
   "id": "736bb3b8",
   "metadata": {},
   "outputs": [
    {
     "data": {
      "text/html": [
       "<div>\n",
       "<style scoped>\n",
       "    .dataframe tbody tr th:only-of-type {\n",
       "        vertical-align: middle;\n",
       "    }\n",
       "\n",
       "    .dataframe tbody tr th {\n",
       "        vertical-align: top;\n",
       "    }\n",
       "\n",
       "    .dataframe thead th {\n",
       "        text-align: right;\n",
       "    }\n",
       "</style>\n",
       "<table border=\"1\" class=\"dataframe\">\n",
       "  <thead>\n",
       "    <tr style=\"text-align: right;\">\n",
       "      <th></th>\n",
       "      <th>Age</th>\n",
       "      <th>Weight_kg</th>\n",
       "      <th>Height_ft</th>\n",
       "      <th>Marital_Status</th>\n",
       "      <th>PCOS</th>\n",
       "      <th>Family_History_PCOS</th>\n",
       "      <th>Menstrual_Irregularity</th>\n",
       "      <th>Hormonal_Imbalance</th>\n",
       "      <th>Hyperandrogenism</th>\n",
       "      <th>Hirsutism</th>\n",
       "      <th>...</th>\n",
       "      <th>Diet_Multivitamin</th>\n",
       "      <th>Vegetarian</th>\n",
       "      <th>Exercise_Frequency</th>\n",
       "      <th>Exercise_Type</th>\n",
       "      <th>Exercise_Duration</th>\n",
       "      <th>Sleep_Hours</th>\n",
       "      <th>Stress_Level</th>\n",
       "      <th>Smoking</th>\n",
       "      <th>Exercise_Benefit</th>\n",
       "      <th>PCOS_Medication</th>\n",
       "    </tr>\n",
       "  </thead>\n",
       "  <tbody>\n",
       "    <tr>\n",
       "      <th>0</th>\n",
       "      <td>20-25</td>\n",
       "      <td>66.0</td>\n",
       "      <td>157.48</td>\n",
       "      <td>Unmarried</td>\n",
       "      <td>No</td>\n",
       "      <td>No</td>\n",
       "      <td>Yes</td>\n",
       "      <td>No</td>\n",
       "      <td>No</td>\n",
       "      <td>No</td>\n",
       "      <td>...</td>\n",
       "      <td>0</td>\n",
       "      <td>No</td>\n",
       "      <td>Rarely</td>\n",
       "      <td>Cardio (e.g., running, cycling, swimming)</td>\n",
       "      <td>30 minutes</td>\n",
       "      <td>Less than 6 hours</td>\n",
       "      <td>No</td>\n",
       "      <td>No</td>\n",
       "      <td>Somewhat</td>\n",
       "      <td>No.</td>\n",
       "    </tr>\n",
       "    <tr>\n",
       "      <th>1</th>\n",
       "      <td>Less than 20</td>\n",
       "      <td>56.0</td>\n",
       "      <td>165.10</td>\n",
       "      <td>Unmarried</td>\n",
       "      <td>No</td>\n",
       "      <td>No</td>\n",
       "      <td>No</td>\n",
       "      <td>No</td>\n",
       "      <td>No</td>\n",
       "      <td>No</td>\n",
       "      <td>...</td>\n",
       "      <td>0</td>\n",
       "      <td>No</td>\n",
       "      <td>Daily</td>\n",
       "      <td>No Exercise</td>\n",
       "      <td>Less than 30 minutes</td>\n",
       "      <td>6-8 hours</td>\n",
       "      <td>No</td>\n",
       "      <td>No</td>\n",
       "      <td>Somewhat</td>\n",
       "      <td>No.</td>\n",
       "    </tr>\n",
       "    <tr>\n",
       "      <th>2</th>\n",
       "      <td>Less than 20</td>\n",
       "      <td>89.0</td>\n",
       "      <td>167.64</td>\n",
       "      <td>Unmarried</td>\n",
       "      <td>No</td>\n",
       "      <td>Yes</td>\n",
       "      <td>No</td>\n",
       "      <td>No</td>\n",
       "      <td>No</td>\n",
       "      <td>Yes</td>\n",
       "      <td>...</td>\n",
       "      <td>0</td>\n",
       "      <td>No</td>\n",
       "      <td>Rarely</td>\n",
       "      <td>Cardio (e.g., running, cycling, swimming)</td>\n",
       "      <td>Less than 30 minutes</td>\n",
       "      <td>6-8 hours</td>\n",
       "      <td>Yes</td>\n",
       "      <td>No</td>\n",
       "      <td>Somewhat</td>\n",
       "      <td>No.</td>\n",
       "    </tr>\n",
       "    <tr>\n",
       "      <th>3</th>\n",
       "      <td>20-25</td>\n",
       "      <td>55.0</td>\n",
       "      <td>160.02</td>\n",
       "      <td>Unmarried</td>\n",
       "      <td>No</td>\n",
       "      <td>Yes</td>\n",
       "      <td>No</td>\n",
       "      <td>Yes</td>\n",
       "      <td>No</td>\n",
       "      <td>Yes</td>\n",
       "      <td>...</td>\n",
       "      <td>1</td>\n",
       "      <td>No</td>\n",
       "      <td>Never</td>\n",
       "      <td>No Exercise</td>\n",
       "      <td>Not Applicable</td>\n",
       "      <td>6-8 hours</td>\n",
       "      <td>Yes</td>\n",
       "      <td>No</td>\n",
       "      <td>Somewhat</td>\n",
       "      <td>No.</td>\n",
       "    </tr>\n",
       "    <tr>\n",
       "      <th>4</th>\n",
       "      <td>Less than 20</td>\n",
       "      <td>55.0</td>\n",
       "      <td>160.02</td>\n",
       "      <td>Unmarried</td>\n",
       "      <td>No</td>\n",
       "      <td>No</td>\n",
       "      <td>No</td>\n",
       "      <td>No</td>\n",
       "      <td>No</td>\n",
       "      <td>No</td>\n",
       "      <td>...</td>\n",
       "      <td>0</td>\n",
       "      <td>No</td>\n",
       "      <td>Daily</td>\n",
       "      <td>Cardio (e.g., running, cycling, swimming)</td>\n",
       "      <td>30 minutes to 1 hour</td>\n",
       "      <td>6-8 hours</td>\n",
       "      <td>Yes</td>\n",
       "      <td>No</td>\n",
       "      <td>Not at All</td>\n",
       "      <td>No.</td>\n",
       "    </tr>\n",
       "  </tbody>\n",
       "</table>\n",
       "<p>5 rows × 36 columns</p>\n",
       "</div>"
      ],
      "text/plain": [
       "            Age  Weight_kg  Height_ft Marital_Status PCOS Family_History_PCOS  \\\n",
       "0         20-25       66.0     157.48      Unmarried   No                  No   \n",
       "1  Less than 20       56.0     165.10      Unmarried   No                  No   \n",
       "2  Less than 20       89.0     167.64      Unmarried   No                 Yes   \n",
       "3         20-25       55.0     160.02      Unmarried   No                 Yes   \n",
       "4  Less than 20       55.0     160.02      Unmarried   No                  No   \n",
       "\n",
       "  Menstrual_Irregularity Hormonal_Imbalance Hyperandrogenism Hirsutism  ...  \\\n",
       "0                    Yes                 No               No        No  ...   \n",
       "1                     No                 No               No        No  ...   \n",
       "2                     No                 No               No       Yes  ...   \n",
       "3                     No                Yes               No       Yes  ...   \n",
       "4                     No                 No               No        No  ...   \n",
       "\n",
       "  Diet_Multivitamin Vegetarian Exercise_Frequency  \\\n",
       "0                 0         No             Rarely   \n",
       "1                 0         No              Daily   \n",
       "2                 0         No             Rarely   \n",
       "3                 1         No              Never   \n",
       "4                 0         No              Daily   \n",
       "\n",
       "                               Exercise_Type     Exercise_Duration  \\\n",
       "0  Cardio (e.g., running, cycling, swimming)            30 minutes   \n",
       "1                                No Exercise  Less than 30 minutes   \n",
       "2  Cardio (e.g., running, cycling, swimming)  Less than 30 minutes   \n",
       "3                                No Exercise        Not Applicable   \n",
       "4  Cardio (e.g., running, cycling, swimming)  30 minutes to 1 hour   \n",
       "\n",
       "         Sleep_Hours  Stress_Level  Smoking  Exercise_Benefit  PCOS_Medication  \n",
       "0  Less than 6 hours            No       No          Somewhat              No.  \n",
       "1          6-8 hours            No       No          Somewhat              No.  \n",
       "2          6-8 hours           Yes       No          Somewhat              No.  \n",
       "3          6-8 hours           Yes       No          Somewhat              No.  \n",
       "4          6-8 hours           Yes       No        Not at All              No.  \n",
       "\n",
       "[5 rows x 36 columns]"
      ]
     },
     "execution_count": 8,
     "metadata": {},
     "output_type": "execute_result"
    }
   ],
   "source": [
    "df = pd.read_csv('/Users/punyashrees/Documents/projects/OvaGuide/data/Cleaned-Data.csv')\n",
    "df.head(5)"
   ]
  },
  {
   "cell_type": "code",
   "execution_count": 9,
   "id": "643c5865",
   "metadata": {},
   "outputs": [],
   "source": [
    "from sklearn.pipeline import Pipeline\n",
    "from sklearn.compose import ColumnTransformer\n",
    "from sklearn.impute import SimpleImputer\n",
    "from sklearn.preprocessing import StandardScaler, OneHotEncoder\n",
    "import joblib"
   ]
  },
  {
   "cell_type": "code",
   "execution_count": 11,
   "id": "8036a860",
   "metadata": {},
   "outputs": [
    {
     "data": {
      "text/plain": [
       "array(['Less than 6 hours', '6-8 hours', '9-12 hours',\n",
       "       'More than 12 hours'], dtype=object)"
      ]
     },
     "execution_count": 11,
     "metadata": {},
     "output_type": "execute_result"
    }
   ],
   "source": [
    "data = df.copy()\n",
    "data[\"Sleep_Hours\"].unique()"
   ]
  },
  {
   "cell_type": "code",
   "execution_count": 17,
   "id": "45f8d863",
   "metadata": {},
   "outputs": [
    {
     "data": {
      "text/plain": [
       "Sleep_Hours\n",
       "6-8 hours              [7.0]\n",
       "9-12 hours            [11.5]\n",
       "Less than 6 hours      [5.5]\n",
       "More than 12 hours    [12.0]\n",
       "Name: Sleep_Hours_num, dtype: object"
      ]
     },
     "execution_count": 17,
     "metadata": {},
     "output_type": "execute_result"
    }
   ],
   "source": [
    "#mapping sleep hours to adjacent numeric labels\n",
    "sleep_map = {\"Less than 6 hours\":5.5, \"6-8 hours\":7.0, \"9-12 hours\":11.5, \"More than 12 hours\": 12}\n",
    "if \"Sleep_Hours\" in data.columns:\n",
    "    data[\"Sleep_Hours_num\"] = data[\"Sleep_Hours\"].map(sleep_map)\n",
    "\n",
    "# Show mapping between Sleep_Hours and Sleep_Hours_num\n",
    "data.groupby(\"Sleep_Hours\")[\"Sleep_Hours_num\"].unique()"
   ]
  },
  {
   "cell_type": "code",
   "execution_count": 18,
   "id": "21c361aa",
   "metadata": {},
   "outputs": [
    {
     "data": {
      "text/plain": [
       "array(['30 minutes', 'Less than 30 minutes', 'Not Applicable',\n",
       "       '30 minutes to 1 hour', 'More than 30 minutes'], dtype=object)"
      ]
     },
     "execution_count": 18,
     "metadata": {},
     "output_type": "execute_result"
    }
   ],
   "source": [
    "data[\"Exercise_Duration\"].unique()"
   ]
  },
  {
   "cell_type": "code",
   "execution_count": 22,
   "id": "79a22520",
   "metadata": {},
   "outputs": [
    {
     "data": {
      "text/plain": [
       "Exercise_Duration\n",
       "30 minutes              [30]\n",
       "30 minutes to 1 hour    [55]\n",
       "Less than 30 minutes    [15]\n",
       "More than 30 minutes    [45]\n",
       "Not Applicable           [0]\n",
       "Name: Exercise_Minutes, dtype: object"
      ]
     },
     "execution_count": 22,
     "metadata": {},
     "output_type": "execute_result"
    }
   ],
   "source": [
    "#mapping exercise duration to minutes\n",
    "exercise_map = {\n",
    "    \"Less than 30 minutes\": 15, \"30 minutes\": 30, \"30 minutes to 1 hour\": 55,\n",
    "    \"Not Applicable\": 0, \"More than 30 minutes\": 45\n",
    "}\n",
    "if \"Exercise_Duration\" in data.columns:\n",
    "    data[\"Exercise_Minutes\"] = data[\"Exercise_Duration\"].map(exercise_map)\n",
    "\n",
    "data.groupby(\"Exercise_Duration\")[\"Exercise_Minutes\"].unique()\n"
   ]
  },
  {
   "cell_type": "code",
   "execution_count": null,
   "id": "b087ee19",
   "metadata": {},
   "outputs": [
    {
     "ename": "TypeError",
     "evalue": "OneHotEncoder.__init__() got an unexpected keyword argument 'sparse'",
     "output_type": "error",
     "traceback": [
      "\u001b[31m---------------------------------------------------------------------------\u001b[39m",
      "\u001b[31mTypeError\u001b[39m                                 Traceback (most recent call last)",
      "\u001b[36mCell\u001b[39m\u001b[36m \u001b[39m\u001b[32mIn[10]\u001b[39m\u001b[32m, line 52\u001b[39m\n\u001b[32m     50\u001b[39m \u001b[38;5;66;03m# Build numeric and categorical transformers\u001b[39;00m\n\u001b[32m     51\u001b[39m numeric_transformer = Pipeline([(\u001b[33m\"\u001b[39m\u001b[33mimputer\u001b[39m\u001b[33m\"\u001b[39m, SimpleImputer(strategy=\u001b[33m\"\u001b[39m\u001b[33mmedian\u001b[39m\u001b[33m\"\u001b[39m)), (\u001b[33m\"\u001b[39m\u001b[33mscaler\u001b[39m\u001b[33m\"\u001b[39m, StandardScaler())])\n\u001b[32m---> \u001b[39m\u001b[32m52\u001b[39m categorical_transformer = Pipeline([(\u001b[33m\"\u001b[39m\u001b[33mimputer\u001b[39m\u001b[33m\"\u001b[39m, SimpleImputer(strategy=\u001b[33m\"\u001b[39m\u001b[33mmost_frequent\u001b[39m\u001b[33m\"\u001b[39m)), (\u001b[33m\"\u001b[39m\u001b[33monehot\u001b[39m\u001b[33m\"\u001b[39m, \u001b[43mOneHotEncoder\u001b[49m\u001b[43m(\u001b[49m\u001b[43mhandle_unknown\u001b[49m\u001b[43m=\u001b[49m\u001b[33;43m\"\u001b[39;49m\u001b[33;43mignore\u001b[39;49m\u001b[33;43m\"\u001b[39;49m\u001b[43m,\u001b[49m\u001b[43m \u001b[49m\u001b[43msparse\u001b[49m\u001b[43m=\u001b[49m\u001b[38;5;28;43;01mFalse\u001b[39;49;00m\u001b[43m)\u001b[49m)])\n\u001b[32m     54\u001b[39m preprocessor = ColumnTransformer([\n\u001b[32m     55\u001b[39m     (\u001b[33m\"\u001b[39m\u001b[33mnum\u001b[39m\u001b[33m\"\u001b[39m, numeric_transformer, numeric_cols),\n\u001b[32m     56\u001b[39m     (\u001b[33m\"\u001b[39m\u001b[33mcat\u001b[39m\u001b[33m\"\u001b[39m, categorical_transformer, categorical_cols)\n\u001b[32m     57\u001b[39m ], remainder=\u001b[33m\"\u001b[39m\u001b[33mdrop\u001b[39m\u001b[33m\"\u001b[39m)\n\u001b[32m     59\u001b[39m pipeline = Pipeline([(\u001b[33m\"\u001b[39m\u001b[33mpreprocessor\u001b[39m\u001b[33m\"\u001b[39m, preprocessor)])\n",
      "\u001b[31mTypeError\u001b[39m: OneHotEncoder.__init__() got an unexpected keyword argument 'sparse'"
     ]
    }
   ],
   "source": [
    "\n",
    "\n",
    "# Ensure diet columns are numeric\n",
    "diet_cols = [c for c in data.columns if c.startswith(\"Diet_\")]\n",
    "for c in diet_cols:\n",
    "    data[c] = pd.to_numeric(data[c], errors=\"coerce\")\n",
    "\n",
    "# Detect simple Yes/No columns and map to 0/1\n",
    "def is_yes_no(series):\n",
    "    vals = set([str(x).strip().lower().rstrip('.') for x in series.dropna().unique()])\n",
    "    return vals.issubset({\"yes\",\"no\",\"y\",\"n\",\"true\",\"false\"})\n",
    "\n",
    "binary_cols = []\n",
    "for col in data.select_dtypes(include=[\"object\"]).columns:\n",
    "    if is_yes_no(data[col]):\n",
    "        binary_cols.append(col)\n",
    "for c in binary_cols:\n",
    "    data[c] = data[c].astype(str).str.strip().str.lower().str.rstrip('.').map({\"yes\":1,\"no\":0,\"y\":1,\"n\":0,\"true\":1,\"false\":0})\n",
    "\n",
    "# Drop original textual columns we replaced (if present)\n",
    "for c in [\"Sleep_Hours\",\"Exercise_Duration\"]:\n",
    "    if c in data.columns:\n",
    "        data.drop(columns=[c], inplace=True)\n",
    "\n",
    "# Identify target column (PCOS)\n",
    "target_candidates = [\"PCOS\",\"PCOS_Label\",\"PCOS (Y/N)\",\"PCOS_Diagnosis\"]\n",
    "target_col = next((t for t in target_candidates if t in data.columns), None)\n",
    "if target_col:\n",
    "    X = data.drop(columns=[target_col]).copy()\n",
    "else:\n",
    "    X = data.copy()\n",
    "\n",
    "# Numeric and categorical columns for pipeline\n",
    "numeric_cols = X.select_dtypes(include=[np.number]).columns.tolist()\n",
    "categorical_cols = X.select_dtypes(include=[\"object\"]).columns.tolist()\n",
    "\n",
    "# Build numeric and categorical transformers\n",
    "numeric_transformer = Pipeline([(\"imputer\", SimpleImputer(strategy=\"median\")), (\"scaler\", StandardScaler())])\n",
    "categorical_transformer = Pipeline([(\"imputer\", SimpleImputer(strategy=\"most_frequent\")), (\"onehot\", OneHotEncoder(handle_unknown=\"ignore\", sparse=False))])\n",
    "\n",
    "preprocessor = ColumnTransformer([\n",
    "    (\"num\", numeric_transformer, numeric_cols),\n",
    "    (\"cat\", categorical_transformer, categorical_cols)\n",
    "], remainder=\"drop\")\n",
    "\n",
    "pipeline = Pipeline([(\"preprocessor\", preprocessor)])\n",
    "\n",
    "# Fit the preprocessing pipeline and save it\n",
    "pipeline.fit(X)\n",
    "X_trans = pipeline.transform(X)\n",
    "print(\"Transformed shape:\", X_trans.shape)\n",
    "\n",
    "joblib.dump(pipeline, \"/mnt/data/pcos_preprocessing_pipeline.joblib\")\n",
    "joblib.dump({\"numeric_cols\": numeric_cols, \"categorical_cols\": categorical_cols}, \"/mnt/data/pcos_feature_columns.joblib\")\n",
    "print(\"Saved pipeline and feature lists to /mnt/data/\")"
   ]
  },
  {
   "cell_type": "code",
   "execution_count": null,
   "id": "9f074a8a",
   "metadata": {},
   "outputs": [],
   "source": []
  },
  {
   "cell_type": "code",
   "execution_count": null,
   "id": "f35b5368",
   "metadata": {},
   "outputs": [],
   "source": []
  },
  {
   "cell_type": "code",
   "execution_count": null,
   "id": "727d981d",
   "metadata": {},
   "outputs": [],
   "source": []
  },
  {
   "cell_type": "code",
   "execution_count": null,
   "id": "c2bbfae7",
   "metadata": {},
   "outputs": [],
   "source": []
  },
  {
   "cell_type": "code",
   "execution_count": null,
   "id": "6e382f51",
   "metadata": {},
   "outputs": [],
   "source": []
  }
 ],
 "metadata": {
  "kernelspec": {
   "display_name": "Python 3",
   "language": "python",
   "name": "python3"
  },
  "language_info": {
   "codemirror_mode": {
    "name": "ipython",
    "version": 3
   },
   "file_extension": ".py",
   "mimetype": "text/x-python",
   "name": "python",
   "nbconvert_exporter": "python",
   "pygments_lexer": "ipython3",
   "version": "3.12.6"
  }
 },
 "nbformat": 4,
 "nbformat_minor": 5
}
